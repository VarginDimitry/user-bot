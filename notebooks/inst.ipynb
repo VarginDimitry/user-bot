{
 "cells": [
  {
   "cell_type": "code",
   "id": "initial_id",
   "metadata": {
    "collapsed": true,
    "ExecuteTime": {
     "end_time": "2025-06-19T08:05:50.267702Z",
     "start_time": "2025-06-19T08:05:50.010978Z"
    }
   },
   "source": [
    "import dotenv\n",
    "import instagrapi\n",
    "import httpx\n",
    "\n",
    "from config import InstaSettings\n",
    "from services.insta_service import InstaService\n",
    "from dto.instagram import *\n",
    "\n",
    "dotenv.load_dotenv()"
   ],
   "outputs": [
    {
     "data": {
      "text/plain": [
       "True"
      ]
     },
     "execution_count": 1,
     "metadata": {},
     "output_type": "execute_result"
    }
   ],
   "execution_count": 1
  },
  {
   "metadata": {
    "ExecuteTime": {
     "end_time": "2025-06-19T08:05:50.278481Z",
     "start_time": "2025-06-19T08:05:50.274175Z"
    }
   },
   "cell_type": "code",
   "source": [
    "insta_settings = InstaSettings()\n",
    "client = instagrapi.Client()"
   ],
   "id": "4cdf2d9143eb5422",
   "outputs": [],
   "execution_count": 2
  },
  {
   "metadata": {
    "ExecuteTime": {
     "end_time": "2025-06-19T08:06:00.576792Z",
     "start_time": "2025-06-19T08:05:50.422563Z"
    }
   },
   "cell_type": "code",
   "source": "client.login(username=insta_settings.USERNAME, password=insta_settings.PASSWORD)",
   "id": "df816bce16d125fd",
   "outputs": [
    {
     "data": {
      "text/plain": [
       "True"
      ]
     },
     "execution_count": 3,
     "metadata": {},
     "output_type": "execute_result"
    }
   ],
   "execution_count": 3
  },
  {
   "metadata": {
    "ExecuteTime": {
     "end_time": "2025-06-19T08:06:00.606170Z",
     "start_time": "2025-06-19T08:06:00.602486Z"
    }
   },
   "cell_type": "code",
   "source": [
    "url = \"https://www.instagram.com/p/DK7G5fVxirh/?utm_source=ig_web_copy_link\"\n",
    "url = InstaService.process_url(url)\n",
    "url"
   ],
   "id": "e20e67498cfbd7dc",
   "outputs": [
    {
     "data": {
      "text/plain": [
       "'https://www.instagram.com/p/DK7G5fVxirh/'"
      ]
     },
     "execution_count": 4,
     "metadata": {},
     "output_type": "execute_result"
    }
   ],
   "execution_count": 4
  },
  {
   "metadata": {
    "ExecuteTime": {
     "end_time": "2025-06-19T08:06:10.011443Z",
     "start_time": "2025-06-19T08:06:00.631442Z"
    }
   },
   "cell_type": "code",
   "source": [
    "media_pk = client.media_pk_from_url(url)\n",
    "media_info = MyMedia.model_validate(client.media_info(media_pk), from_attributes=True)"
   ],
   "id": "116a2ae480b3989b",
   "outputs": [],
   "execution_count": 5
  },
  {
   "metadata": {
    "ExecuteTime": {
     "end_time": "2025-06-19T08:06:10.033583Z",
     "start_time": "2025-06-19T08:06:10.027689Z"
    }
   },
   "cell_type": "code",
   "source": "media_info.model_dump()",
   "id": "76a9b4f137fc149d",
   "outputs": [
    {
     "data": {
      "text/plain": [
       "{'pk': 3655545861481835233,\n",
       " 'id': '3655545861481835233_73585408380',\n",
       " 'code': 'DK7G5fVxirh',\n",
       " 'taken_at': datetime.datetime(2025, 6, 15, 13, 44, 6, tzinfo=TzInfo(UTC)),\n",
       " 'media_type': <MediaType.IMAGE: 1>,\n",
       " 'image_versions2': {'candidates': [{'url': HttpUrl('https://scontent-ams4-1.cdninstagram.com/v/t51.2885-15/505493920_17856200562448381_2787234903031138753_n.jpg?stp=dst-jpg_e35_p1080x1080_tt6&efg=eyJ2ZW5jb2RlX3RhZyI6IkZFRUQuaW1hZ2VfdXJsZ2VuLjE0NDB4MTgwMC5zZHIuZjc1NzYxLmRlZmF1bHRfaW1hZ2UifQ&_nc_ht=scontent-ams4-1.cdninstagram.com&_nc_cat=101&_nc_oc=Q6cZ2QEfD0tYdNy5QKF2Kc2cPxfOQbokZzhSEDe8nPcUAtcLMgP6UUkSqW5WUj8DTzkjUcM&_nc_ohc=S1YUde9f0EMQ7kNvwEXlhED&_nc_gid=WB50IC6hVY809KQ8nRynlA&edm=ALQROFkBAAAA&ccb=7-5&ig_cache_key=MzY1NTU0NTg2MTQ4MTgzNTIzMw%3D%3D.3-ccb7-5&oh=00_AfOTPr-CSE62orgLmZIbNGLVbZVzt4LF_hvsfUB7aUtfKg&oe=6859A37F&_nc_sid=fc8dfb'),\n",
       "    'height': 1350,\n",
       "    'width': 1080},\n",
       "   {'url': HttpUrl('https://scontent-ams4-1.cdninstagram.com/v/t51.2885-15/505493920_17856200562448381_2787234903031138753_n.jpg?stp=dst-jpg_e35_p360x360_tt6&efg=eyJ2ZW5jb2RlX3RhZyI6IkZFRUQuaW1hZ2VfdXJsZ2VuLjE0NDB4MTgwMC5zZHIuZjc1NzYxLmRlZmF1bHRfaW1hZ2UifQ&_nc_ht=scontent-ams4-1.cdninstagram.com&_nc_cat=101&_nc_oc=Q6cZ2QEfD0tYdNy5QKF2Kc2cPxfOQbokZzhSEDe8nPcUAtcLMgP6UUkSqW5WUj8DTzkjUcM&_nc_ohc=S1YUde9f0EMQ7kNvwEXlhED&_nc_gid=WB50IC6hVY809KQ8nRynlA&edm=ALQROFkBAAAA&ccb=7-5&ig_cache_key=MzY1NTU0NTg2MTQ4MTgzNTIzMw%3D%3D.3-ccb7-5&oh=00_AfNep2L0c3EhExMJVtAjgSaK0K7cNHFbRC22ANiw7c0dqA&oe=6859A37F&_nc_sid=fc8dfb'),\n",
       "    'height': 450,\n",
       "    'width': 360}]},\n",
       " 'product_type': 'feed',\n",
       " 'thumbnail_url': HttpUrl('https://scontent-ams4-1.cdninstagram.com/v/t51.2885-15/505493920_17856200562448381_2787234903031138753_n.jpg?stp=dst-jpg_e35_p1080x1080_tt6&efg=eyJ2ZW5jb2RlX3RhZyI6IkZFRUQuaW1hZ2VfdXJsZ2VuLjE0NDB4MTgwMC5zZHIuZjc1NzYxLmRlZmF1bHRfaW1hZ2UifQ&_nc_ht=scontent-ams4-1.cdninstagram.com&_nc_cat=101&_nc_oc=Q6cZ2QEfD0tYdNy5QKF2Kc2cPxfOQbokZzhSEDe8nPcUAtcLMgP6UUkSqW5WUj8DTzkjUcM&_nc_ohc=S1YUde9f0EMQ7kNvwEXlhED&_nc_gid=WB50IC6hVY809KQ8nRynlA&edm=ALQROFkBAAAA&ccb=7-5&ig_cache_key=MzY1NTU0NTg2MTQ4MTgzNTIzMw%3D%3D.3-ccb7-5&oh=00_AfOTPr-CSE62orgLmZIbNGLVbZVzt4LF_hvsfUB7aUtfKg&oe=6859A37F&_nc_sid=fc8dfb'),\n",
       " 'location': None,\n",
       " 'user': {'pk': '73585408380',\n",
       "  'username': 'drmaurocosta_',\n",
       "  'full_name': 'Mauro Costa Barbosa',\n",
       "  'profile_pic_url': HttpUrl('https://scontent-ams4-1.cdninstagram.com/v/t51.2885-19/488056354_673396098382031_5957058171674767428_n.jpg?stp=dst-jpg_e0_s150x150_tt6&_nc_ht=scontent-ams4-1.cdninstagram.com&_nc_cat=1&_nc_oc=Q6cZ2QEfD0tYdNy5QKF2Kc2cPxfOQbokZzhSEDe8nPcUAtcLMgP6UUkSqW5WUj8DTzkjUcM&_nc_ohc=8kExr23NlQIQ7kNvwEJt61K&_nc_gid=WB50IC6hVY809KQ8nRynlA&edm=ALQROFkBAAAA&ccb=7-5&ig_cache_key=GCImFx3PuDw-c2QCAEQwA2XYuKtSbkULAAAB-ccb7-5&oh=00_AfNSGNJ33CEet58PVbraApWZ5krEUKXTbccuOxFcFB62EA&oe=6859A231&_nc_sid=fc8dfb'),\n",
       "  'profile_pic_url_hd': None,\n",
       "  'is_private': False},\n",
       " 'comment_count': 229,\n",
       " 'comments_disabled': False,\n",
       " 'commenting_disabled_for_viewer': False,\n",
       " 'like_count': 21867,\n",
       " 'play_count': 0,\n",
       " 'has_liked': False,\n",
       " 'caption_text': 'VW Golf R, Hyundai Ioniq N-Line e Toyota GR Corolla',\n",
       " 'accessibility_caption': None,\n",
       " 'usertags': [{'user': {'pk': '7449408867',\n",
       "    'username': 'drmaurocosta',\n",
       "    'full_name': 'Mauro Costa Barbosa',\n",
       "    'profile_pic_url': HttpUrl('https://scontent-ams4-1.cdninstagram.com/v/t51.2885-19/340156539_889647839000970_4064792771966985081_n.jpg?stp=dst-jpg_e0_s150x150_tt6&_nc_ht=scontent-ams4-1.cdninstagram.com&_nc_cat=1&_nc_oc=Q6cZ2QEfD0tYdNy5QKF2Kc2cPxfOQbokZzhSEDe8nPcUAtcLMgP6UUkSqW5WUj8DTzkjUcM&_nc_ohc=cxbR_x_-WYAQ7kNvwFcm6p7&_nc_gid=WB50IC6hVY809KQ8nRynlA&edm=ALQROFkBAAAA&ccb=7-5&ig_cache_key=GHtgRhSKOWtHISkDAHnjqmp9C2k4bkULAAAB-ccb7-5&oh=00_AfN70MrMVNYf8kgS-gVsqTRi-iOjWenM8sgVdEFf0JuCAg&oe=685984B6&_nc_sid=fc8dfb'),\n",
       "    'profile_pic_url_hd': None,\n",
       "    'is_private': False},\n",
       "   'x': 0.5,\n",
       "   'y': 0.5}],\n",
       " 'sponsor_tags': [],\n",
       " 'video_url': None,\n",
       " 'view_count': 0,\n",
       " 'video_duration': 0.0,\n",
       " 'title': '',\n",
       " 'resources': [],\n",
       " 'clips_metadata': {}}"
      ]
     },
     "execution_count": 6,
     "metadata": {},
     "output_type": "execute_result"
    }
   ],
   "execution_count": 6
  },
  {
   "metadata": {
    "ExecuteTime": {
     "end_time": "2025-06-19T08:08:41.330004Z",
     "start_time": "2025-06-19T08:08:41.321219Z"
    }
   },
   "cell_type": "code",
   "source": [
    "file = media_info.extract_media_urls()\n",
    "file"
   ],
   "id": "1f651ab322ae4164",
   "outputs": [
    {
     "data": {
      "text/plain": [
       "['https://scontent-ams4-1.cdninstagram.com/v/t51.2885-15/505493920_17856200562448381_2787234903031138753_n.jpg?stp=dst-jpg_e35_p1080x1080_tt6&efg=eyJ2ZW5jb2RlX3RhZyI6IkZFRUQuaW1hZ2VfdXJsZ2VuLjE0NDB4MTgwMC5zZHIuZjc1NzYxLmRlZmF1bHRfaW1hZ2UifQ&_nc_ht=scontent-ams4-1.cdninstagram.com&_nc_cat=101&_nc_oc=Q6cZ2QEfD0tYdNy5QKF2Kc2cPxfOQbokZzhSEDe8nPcUAtcLMgP6UUkSqW5WUj8DTzkjUcM&_nc_ohc=S1YUde9f0EMQ7kNvwEXlhED&_nc_gid=WB50IC6hVY809KQ8nRynlA&edm=ALQROFkBAAAA&ccb=7-5&ig_cache_key=MzY1NTU0NTg2MTQ4MTgzNTIzMw%3D%3D.3-ccb7-5&oh=00_AfOTPr-CSE62orgLmZIbNGLVbZVzt4LF_hvsfUB7aUtfKg&oe=6859A37F&_nc_sid=fc8dfb']"
      ]
     },
     "execution_count": 8,
     "metadata": {},
     "output_type": "execute_result"
    }
   ],
   "execution_count": 8
  },
  {
   "metadata": {
    "ExecuteTime": {
     "end_time": "2025-06-19T08:09:22.529469Z",
     "start_time": "2025-06-19T08:09:22.512712Z"
    }
   },
   "cell_type": "code",
   "source": "file[0]",
   "id": "25b75f43533167e2",
   "outputs": [
    {
     "data": {
      "text/plain": [
       "'https://scontent-ams4-1.cdninstagram.com/v/t51.2885-15/505493920_17856200562448381_2787234903031138753_n.jpg?stp=dst-jpg_e35_p1080x1080_tt6&efg=eyJ2ZW5jb2RlX3RhZyI6IkZFRUQuaW1hZ2VfdXJsZ2VuLjE0NDB4MTgwMC5zZHIuZjc1NzYxLmRlZmF1bHRfaW1hZ2UifQ&_nc_ht=scontent-ams4-1.cdninstagram.com&_nc_cat=101&_nc_oc=Q6cZ2QEfD0tYdNy5QKF2Kc2cPxfOQbokZzhSEDe8nPcUAtcLMgP6UUkSqW5WUj8DTzkjUcM&_nc_ohc=S1YUde9f0EMQ7kNvwEXlhED&_nc_gid=WB50IC6hVY809KQ8nRynlA&edm=ALQROFkBAAAA&ccb=7-5&ig_cache_key=MzY1NTU0NTg2MTQ4MTgzNTIzMw%3D%3D.3-ccb7-5&oh=00_AfOTPr-CSE62orgLmZIbNGLVbZVzt4LF_hvsfUB7aUtfKg&oe=6859A37F&_nc_sid=fc8dfb'"
      ]
     },
     "execution_count": 12,
     "metadata": {},
     "output_type": "execute_result"
    }
   ],
   "execution_count": 12
  },
  {
   "metadata": {
    "ExecuteTime": {
     "end_time": "2025-06-19T07:50:09.091319Z",
     "start_time": "2025-06-19T07:50:02.393411Z"
    }
   },
   "cell_type": "code",
   "source": [
    "result = 0\n",
    "for url in media_info.extract_media_urls():\n",
    "    response = httpx.get(url)\n",
    "    assert response.is_success\n",
    "    result += len(response.content)"
   ],
   "id": "ef81ea27512b5db7",
   "outputs": [],
   "execution_count": 10
  },
  {
   "metadata": {
    "ExecuteTime": {
     "end_time": "2025-06-19T07:50:26.463678Z",
     "start_time": "2025-06-19T07:50:26.448163Z"
    }
   },
   "cell_type": "code",
   "source": "result / (1024 ** 2)",
   "id": "d928f5ec33337d76",
   "outputs": [
    {
     "data": {
      "text/plain": [
       "14.41268539428711"
      ]
     },
     "execution_count": 13,
     "metadata": {},
     "output_type": "execute_result"
    }
   ],
   "execution_count": 13
  },
  {
   "metadata": {},
   "cell_type": "code",
   "outputs": [],
   "execution_count": null,
   "source": "",
   "id": "488b88d6eafa8442"
  }
 ],
 "metadata": {
  "kernelspec": {
   "display_name": "Python 3",
   "language": "python",
   "name": "python3"
  },
  "language_info": {
   "codemirror_mode": {
    "name": "ipython",
    "version": 2
   },
   "file_extension": ".py",
   "mimetype": "text/x-python",
   "name": "python",
   "nbconvert_exporter": "python",
   "pygments_lexer": "ipython2",
   "version": "2.7.6"
  }
 },
 "nbformat": 4,
 "nbformat_minor": 5
}
