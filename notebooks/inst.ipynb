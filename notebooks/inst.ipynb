{
 "cells": [
  {
   "cell_type": "code",
   "id": "initial_id",
   "metadata": {
    "collapsed": true,
    "ExecuteTime": {
     "end_time": "2025-06-19T07:49:41.911855Z",
     "start_time": "2025-06-19T07:49:41.660296Z"
    }
   },
   "source": [
    "import dotenv\n",
    "import instagrapi\n",
    "import httpx\n",
    "\n",
    "from config import InstaSettings\n",
    "from services.insta_service import InstaService\n",
    "from dto.instagram import *\n",
    "\n",
    "dotenv.load_dotenv()"
   ],
   "outputs": [
    {
     "data": {
      "text/plain": [
       "True"
      ]
     },
     "execution_count": 2,
     "metadata": {},
     "output_type": "execute_result"
    }
   ],
   "execution_count": 2
  },
  {
   "metadata": {
    "ExecuteTime": {
     "end_time": "2025-06-19T07:49:41.922625Z",
     "start_time": "2025-06-19T07:49:41.919696Z"
    }
   },
   "cell_type": "code",
   "source": [
    "insta_settings = InstaSettings()\n",
    "client = instagrapi.Client()"
   ],
   "id": "4cdf2d9143eb5422",
   "outputs": [],
   "execution_count": 3
  },
  {
   "metadata": {
    "ExecuteTime": {
     "end_time": "2025-06-19T07:49:52.789805Z",
     "start_time": "2025-06-19T07:49:42.367052Z"
    }
   },
   "cell_type": "code",
   "source": "client.login(username=insta_settings.USERNAME, password=insta_settings.PASSWORD)",
   "id": "df816bce16d125fd",
   "outputs": [
    {
     "data": {
      "text/plain": [
       "True"
      ]
     },
     "execution_count": 4,
     "metadata": {},
     "output_type": "execute_result"
    }
   ],
   "execution_count": 4
  },
  {
   "metadata": {
    "ExecuteTime": {
     "end_time": "2025-06-19T07:49:52.812029Z",
     "start_time": "2025-06-19T07:49:52.809096Z"
    }
   },
   "cell_type": "code",
   "source": [
    "url = \"https://www.instagram.com/p/DKXAZ2CtnI3/?utm_source=ig_web_copy_link\"\n",
    "url = InstaService.process_url(url)\n",
    "url"
   ],
   "id": "e20e67498cfbd7dc",
   "outputs": [
    {
     "data": {
      "text/plain": [
       "'https://www.instagram.com/p/DKXAZ2CtnI3/'"
      ]
     },
     "execution_count": 5,
     "metadata": {},
     "output_type": "execute_result"
    }
   ],
   "execution_count": 5
  },
  {
   "metadata": {
    "ExecuteTime": {
     "end_time": "2025-06-19T07:50:02.260821Z",
     "start_time": "2025-06-19T07:49:52.823001Z"
    }
   },
   "cell_type": "code",
   "source": [
    "media_pk = client.media_pk_from_url(url)\n",
    "media_info = MyMedia.model_validate(client.media_info(media_pk), from_attributes=True)"
   ],
   "id": "116a2ae480b3989b",
   "outputs": [],
   "execution_count": 6
  },
  {
   "metadata": {
    "ExecuteTime": {
     "end_time": "2025-06-19T07:50:02.286009Z",
     "start_time": "2025-06-19T07:50:02.277449Z"
    }
   },
   "cell_type": "code",
   "source": "media_info.model_dump()",
   "id": "76a9b4f137fc149d",
   "outputs": [
    {
     "data": {
      "text/plain": [
       "{'pk': 3645384199394193975,\n",
       " 'id': '3645384199394193975_4020549143',\n",
       " 'code': 'DKXAZ2CtnI3',\n",
       " 'taken_at': datetime.datetime(2025, 6, 1, 13, 14, 42, tzinfo=TzInfo(UTC)),\n",
       " 'media_type': <MediaType.ALBUM: 8>,\n",
       " 'image_versions2': {'candidates': [{'url': HttpUrl('https://scontent-ams2-1.cdninstagram.com/v/t51.2885-15/503175935_18375291760133144_8156516682850075176_n.jpg?stp=dst-jpg_e15_p360x360_tt6&efg=eyJ2ZW5jb2RlX3RhZyI6IkNBUk9VU0VMX0lURU0uaW1hZ2VfdXJsZ2VuLjcyMHg5MDAuc2RyLmY3NTc2MS5kZWZhdWx0X2NvdmVyX2ZyYW1lIn0&_nc_ht=scontent-ams2-1.cdninstagram.com&_nc_cat=108&_nc_oc=Q6cZ2QHlm1YCZg1GNzDPFICscqdcP81VrJIvzf7BZEru9CXo2C_zRgTGXXM0WaQk7QuOsfY&_nc_ohc=S0EpJDpI1yMQ7kNvwH5YUdi&_nc_gid=AgeT8eNA4_87fftaM-VC9w&edm=ALQROFkBAAAA&ccb=7-5&ig_cache_key=MzY0NTM4MzgwMTEwMjk0Njg0NQ%3D%3D.3-ccb7-5&oh=00_AfPQB8BV1k53ir5SDwbMm9H65RmJWgXH8TxXkpnjePEy6g&oe=68598F0C&_nc_sid=fc8dfb'),\n",
       "    'height': 450,\n",
       "    'width': 360}]},\n",
       " 'product_type': 'carousel_container',\n",
       " 'thumbnail_url': None,\n",
       " 'location': None,\n",
       " 'user': {'pk': '4020549143',\n",
       "  'username': 'eatsleepdriftofficial',\n",
       "  'full_name': 'Eat Sleep Drift',\n",
       "  'profile_pic_url': HttpUrl('https://scontent-ams4-1.cdninstagram.com/v/t51.2885-19/470309057_983326143835620_4636940296632714786_n.jpg?stp=dst-jpg_e0_s150x150_tt6&_nc_ht=scontent-ams4-1.cdninstagram.com&_nc_cat=1&_nc_oc=Q6cZ2QHlm1YCZg1GNzDPFICscqdcP81VrJIvzf7BZEru9CXo2C_zRgTGXXM0WaQk7QuOsfY&_nc_ohc=tjolkFLffRkQ7kNvwFFTjDe&_nc_gid=AgeT8eNA4_87fftaM-VC9w&edm=ALQROFkBAAAA&ccb=7-5&ig_cache_key=GMFYCBzkbYB1VH4DACLGfNmhuFlAbkULAAAB-ccb7-5&oh=00_AfM2gnUKjR36YR6UJWpDOC6EoJO1_epPyELYk89gTFfcIg&oe=685995F3&_nc_sid=fc8dfb'),\n",
       "  'profile_pic_url_hd': None,\n",
       "  'is_private': False},\n",
       " 'comment_count': 281,\n",
       " 'comments_disabled': False,\n",
       " 'commenting_disabled_for_viewer': False,\n",
       " 'like_count': 209386,\n",
       " 'play_count': 0,\n",
       " 'has_liked': False,\n",
       " 'caption_text': 'Third-generation Mazda RX-7 (FD), transformed into a striking homage to Disney-Pixar’s Lightning McQueen.  Owned by New Zealand drifter Luke McKinnon @lightningmckinnon , this RX-7 has been customized with a Pandem Rocket Bunny widebody kit and adorned with the iconic red-and-yellow livery, complete with McQueen\\'s expressive eyes on the windshield and the number 95 emblazoned on the sides.  The car\\'s name, \"Lightning McKinnon,\" cleverly merges the owner\\'s surname with the animated character\\'s moniker, showcasing both creativity and a deep appreciation for automotive culture. \\n\\nBeyond its eye-catching exterior, the RX-7 maintains its original turbocharged twin-rotor 13B engine, likely enhanced to endure the rigors of drifting.  The vehicle is equipped with a sequential transmission featuring straight-cut gears, producing a distinctive mechanical whine during gear shifts.  Additional modifications include high-angle steering components, a roll cage for safety, and a hydraulic handbrake, all essential for executing precise drift maneuvers. \\n\\nLuke McKinnon\\'s creation has garnered significant attention on social media platforms, particularly Instagram, where he shares videos of the car in action.  The fusion of a beloved animated character with a high-performance drift car has resonated with audiences worldwide, highlighting the intersection of pop culture and motorsport.  This unique build not only pays tribute to a cinematic icon but also serves as a testament to the owner\\'s passion and ingenuity. \\n\\nIn essence, the \"Lightning McKinnon\" RX-7 exemplifies how personal expression and fandom can converge to produce a vehicle that is both a functional drift machine and a rolling piece of art.  It\\'s a vivid reminder that the automotive world thrives on individuality, creativity, and the joy of bringing imaginative concepts to life on the road. \\n.\\n.\\n#rx7  #fd3s  #jdm  #drifting  #drift  #boost  #lightningmcqueen  #carsmovie  #cars',\n",
       " 'accessibility_caption': None,\n",
       " 'usertags': [],\n",
       " 'sponsor_tags': [],\n",
       " 'video_url': None,\n",
       " 'view_count': 0,\n",
       " 'video_duration': 0.0,\n",
       " 'title': '',\n",
       " 'resources': [{'pk': '3645383801102946845',\n",
       "   'video_url': HttpUrl('https://scontent-ams2-1.cdninstagram.com/o1/v/t2/f2/m367/AQMczoaR4Q_q07EMcGKzV1-tu-l5nFfc2BPK4Yt-fLwmU2wFBy-aoRDejjC26e6Y6fI6g3ru9E6SQMy_mZx__HPwLoUEwj1Vif2nIwU.mp4?_nc_cat=106&_nc_sid=5e9851&_nc_ht=scontent-ams2-1.cdninstagram.com&_nc_ohc=3Mm60WeAszwQ7kNvwGmWyC1&efg=eyJ2ZW5jb2RlX3RhZyI6Inhwdl9wcm9ncmVzc2l2ZS5JTlNUQUdSQU0uQ0FST1VTRUxfSVRFTS5DMy4xMDgwLmRhc2hfYmFzZWxpbmVfMTA4MHBfdjEiLCJ4cHZfYXNzZXRfaWQiOjEwMzE2OTA2OTUzMDEwOTgsInZpX3VzZWNhc2VfaWQiOjEwMTQ2LCJkdXJhdGlvbl9zIjoxNiwidXJsZ2VuX3NvdXJjZSI6Ind3dyJ9&ccb=17-1&vs=d9d87940b406943d&_nc_vs=HBksFQIYQGlnX2VwaGVtZXJhbC9BMDQzRkU2QzhFOTkzRkRFNUY2NDNBRDRGNzk3OTM4MF92aWRlb19kYXNoaW5pdC5tcDQVAALIARIAFQIYOnBhc3N0aHJvdWdoX2V2ZXJzdG9yZS9HUFRJOVIzSHRNVU5WQmdqQUJ2QlpBSERxdzBPYmtZTEFBQUYVAgLIARIAKAAYABsCiAd1c2Vfb2lsATEScHJvZ3Jlc3NpdmVfcmVjaXBlATEVAAAm1N_K1qaU1QMVAigCQzMsF0Aw1T987ZFoGBZkYXNoX2Jhc2VsaW5lXzEwODBwX3YxEQB17gdlxJ4BAA&_nc_zt=28&oh=00_AfOHv-l72Cdt5ta9L0e40egYOVrZIYw_Kytey6ea-MQjsw&oe=685979C7'),\n",
       "   'thumbnail_url': HttpUrl('https://scontent-ams2-1.cdninstagram.com/v/t51.2885-15/503175935_18375291760133144_8156516682850075176_n.jpg?stp=dst-jpg_e15_p360x360_tt6&efg=eyJ2ZW5jb2RlX3RhZyI6IkNBUk9VU0VMX0lURU0uaW1hZ2VfdXJsZ2VuLjcyMHg5MDAuc2RyLmY3NTc2MS5kZWZhdWx0X2NvdmVyX2ZyYW1lIn0&_nc_ht=scontent-ams2-1.cdninstagram.com&_nc_cat=108&_nc_oc=Q6cZ2QHlm1YCZg1GNzDPFICscqdcP81VrJIvzf7BZEru9CXo2C_zRgTGXXM0WaQk7QuOsfY&_nc_ohc=S0EpJDpI1yMQ7kNvwH5YUdi&_nc_gid=AgeT8eNA4_87fftaM-VC9w&edm=ALQROFkBAAAA&ccb=7-5&ig_cache_key=MzY0NTM4MzgwMTEwMjk0Njg0NQ%3D%3D.3-ccb7-5&oh=00_AfPQB8BV1k53ir5SDwbMm9H65RmJWgXH8TxXkpnjePEy6g&oe=68598F0C&_nc_sid=fc8dfb'),\n",
       "   'media_type': 2},\n",
       "  {'pk': '3645383864973813497',\n",
       "   'video_url': HttpUrl('https://scontent-ams4-1.cdninstagram.com/o1/v/t16/f2/m84/AQOxB0aC5ramyJwQ56ilcW7gkETSwaTMfzLJN9HMYCwCZKq6Wq8S10x1fTJbEGplhwgnMvdL2AbxnPMKxRvuyU3W3iWKjGK7xPsNI2o.mp4?_nc_cat=109&_nc_sid=5e9851&_nc_ht=scontent-ams4-1.cdninstagram.com&_nc_ohc=6CdRP2JTQ4MQ7kNvwExHlkw&efg=eyJ2ZW5jb2RlX3RhZyI6Inhwdl9wcm9ncmVzc2l2ZS5JTlNUQUdSQU0uQ0FST1VTRUxfSVRFTS5DMy41NzYuZGFzaF9iYXNlbGluZV8xX3YxIiwieHB2X2Fzc2V0X2lkIjoxMDA2OTA0MzYxNjUxNjU3LCJ2aV91c2VjYXNlX2lkIjoxMDE0NiwiZHVyYXRpb25fcyI6OCwidXJsZ2VuX3NvdXJjZSI6Ind3dyJ9&ccb=17-1&vs=8fbf37c1a6a6eb1c&_nc_vs=HBksFQIYTGlnX2JhY2tmaWxsX3RpbWVsaW5lX3ZvZC9CMzRDM0U4OTRDOEJGMTQ3NTBGREQ1NDhBMjg0MDc5QV92aWRlb19kYXNoaW5pdC5tcDQVAALIARIAFQIYOnBhc3N0aHJvdWdoX2V2ZXJzdG9yZS9HSmNjX3gzYkdsM3MwRDBHQUp2bm1lTjFSNHRZYmtZTEFBQUYVAgLIARIAKAAYABsCiAd1c2Vfb2lsATEScHJvZ3Jlc3NpdmVfcmVjaXBlATEVAAAmkrfkjMbxyQMVAigCQzMsF0Agu2RaHKwIGBJkYXNoX2Jhc2VsaW5lXzFfdjERAHXuB2XEngEA&_nc_zt=28&oh=00_AfMUkDhHhbjN4qDgI_2F4ysKzW6rSUn9B3Jn7iSbP8fXfw&oe=6855B5DB'),\n",
       "   'thumbnail_url': HttpUrl('https://scontent-ams2-1.cdninstagram.com/v/t51.2885-15/503152275_18375291796133144_111129946698688847_n.jpg?stp=dst-jpg_e15_p360x360_tt6&efg=eyJ2ZW5jb2RlX3RhZyI6IkNBUk9VU0VMX0lURU0uaW1hZ2VfdXJsZ2VuLjU3Nng3MjAuc2RyLmY3NTc2MS5kZWZhdWx0X2NvdmVyX2ZyYW1lIn0&_nc_ht=scontent-ams2-1.cdninstagram.com&_nc_cat=108&_nc_oc=Q6cZ2QHlm1YCZg1GNzDPFICscqdcP81VrJIvzf7BZEru9CXo2C_zRgTGXXM0WaQk7QuOsfY&_nc_ohc=Rp5FalhkDvUQ7kNvwH_9e9N&_nc_gid=AgeT8eNA4_87fftaM-VC9w&edm=ALQROFkBAAAA&ccb=7-5&ig_cache_key=MzY0NTM4Mzg2NDk3MzgxMzQ5Nw%3D%3D.3-ccb7-5&oh=00_AfOpdf0Xg5W0oJUzSctDmMIZTn_VLH8rU83K6U8TwRiSKg&oe=68597D46&_nc_sid=fc8dfb'),\n",
       "   'media_type': 2},\n",
       "  {'pk': '3645383916907761114',\n",
       "   'video_url': HttpUrl('https://scontent-ams2-1.cdninstagram.com/o1/v/t16/f2/m84/AQM2L_f4zH18kVv9V9x06j4PzIdx17ZwUlFI_fTuZtr0fKDeyoPKvJAArjpxmsiXcbHs2Pv6QXUbsUe1Y671g8Um0iNg3gjGlUbXHSk.mp4?_nc_cat=108&_nc_sid=5e9851&_nc_ht=scontent-ams2-1.cdninstagram.com&_nc_ohc=TuhsDGNokyYQ7kNvwFDY29r&efg=eyJ2ZW5jb2RlX3RhZyI6Inhwdl9wcm9ncmVzc2l2ZS5JTlNUQUdSQU0uQ0FST1VTRUxfSVRFTS5DMy41NzYuZGFzaF9iYXNlbGluZV8xX3YxIiwieHB2X2Fzc2V0X2lkIjoxNDQyNDE2NjQwMDk2NjgwLCJ2aV91c2VjYXNlX2lkIjoxMDE0NiwiZHVyYXRpb25fcyI6OCwidXJsZ2VuX3NvdXJjZSI6Ind3dyJ9&ccb=17-1&vs=7cb3776a04afd631&_nc_vs=HBksFQIYTGlnX2JhY2tmaWxsX3RpbWVsaW5lX3ZvZC8xMjRDM0VFRTI4MTM1RTBGQzE0QTlBQjI1NzlCM0Y4MV92aWRlb19kYXNoaW5pdC5tcDQVAALIARIAFQIYOnBhc3N0aHJvdWdoX2V2ZXJzdG9yZS9HREV1LXgwdExINzFGUVlDQUt2ZXY4ZWN2cFlzYmtZTEFBQUYVAgLIARIAKAAYABsCiAd1c2Vfb2lsATEScHJvZ3Jlc3NpdmVfcmVjaXBlATEVAAAm0Oabt9n3jwUVAigCQzMsF0AhIcrAgxJvGBJkYXNoX2Jhc2VsaW5lXzFfdjERAHXuB2XEngEA&_nc_zt=28&oh=00_AfMgF66JzJNxZWCgUc3cmsBuW62N5QiHnA-MEUvAuvk4ug&oe=6855872C'),\n",
       "   'thumbnail_url': HttpUrl('https://scontent-ams2-1.cdninstagram.com/v/t51.2885-15/502959253_18375291811133144_4362642168415378401_n.jpg?stp=dst-jpg_e15_p360x360_tt6&efg=eyJ2ZW5jb2RlX3RhZyI6IkNBUk9VU0VMX0lURU0uaW1hZ2VfdXJsZ2VuLjU3Nng3MjAuc2RyLmY3NTc2MS5kZWZhdWx0X2NvdmVyX2ZyYW1lIn0&_nc_ht=scontent-ams2-1.cdninstagram.com&_nc_cat=108&_nc_oc=Q6cZ2QHlm1YCZg1GNzDPFICscqdcP81VrJIvzf7BZEru9CXo2C_zRgTGXXM0WaQk7QuOsfY&_nc_ohc=jbRLsc0z4HsQ7kNvwGfz8VR&_nc_gid=AgeT8eNA4_87fftaM-VC9w&edm=ALQROFkBAAAA&ccb=7-5&ig_cache_key=MzY0NTM4MzkxNjkwNzc2MTExNA%3D%3D.3-ccb7-5&oh=00_AfPcF83yoURKDgA9aGJyVHza4l5rr9k745_-K8Zcpg1ABw&oe=6859ABE2&_nc_sid=fc8dfb'),\n",
       "   'media_type': 2},\n",
       "  {'pk': '3645384187079744081',\n",
       "   'video_url': None,\n",
       "   'thumbnail_url': HttpUrl('https://scontent-ams4-1.cdninstagram.com/v/t51.29350-15/503325122_1195561618558845_4285542924715296480_n.heic?stp=dst-jpg_e35_p1080x1080_tt6&efg=eyJ2ZW5jb2RlX3RhZyI6IkNBUk9VU0VMX0lURU0uaW1hZ2VfdXJsZ2VuLjE0NDB4MTgwMC5zZHIuZjI5MzUwLmRlZmF1bHRfaW1hZ2UifQ&_nc_ht=scontent-ams4-1.cdninstagram.com&_nc_cat=109&_nc_oc=Q6cZ2QHlm1YCZg1GNzDPFICscqdcP81VrJIvzf7BZEru9CXo2C_zRgTGXXM0WaQk7QuOsfY&_nc_ohc=GJH1aykWhC4Q7kNvwEHYfNl&_nc_gid=AgeT8eNA4_87fftaM-VC9w&edm=ALQROFkBAAAA&ccb=7-5&ig_cache_key=MzY0NTM4NDE4NzA3OTc0NDA4MQ%3D%3D.3-ccb7-5&oh=00_AfNPu7jjoCOUvp4L0aKbOa8TfGvMR8BcOhx-NAoGKNCtDw&oe=685996A0&_nc_sid=fc8dfb'),\n",
       "   'media_type': 1},\n",
       "  {'pk': '3645384187046050796',\n",
       "   'video_url': None,\n",
       "   'thumbnail_url': HttpUrl('https://scontent-ams4-1.cdninstagram.com/v/t51.29350-15/503055620_1940237529845353_7046392109260968268_n.heic?stp=dst-jpg_e35_p1080x1080_tt6&efg=eyJ2ZW5jb2RlX3RhZyI6IkNBUk9VU0VMX0lURU0uaW1hZ2VfdXJsZ2VuLjE0NDB4MTgwMC5zZHIuZjI5MzUwLmRlZmF1bHRfaW1hZ2UifQ&_nc_ht=scontent-ams4-1.cdninstagram.com&_nc_cat=101&_nc_oc=Q6cZ2QHlm1YCZg1GNzDPFICscqdcP81VrJIvzf7BZEru9CXo2C_zRgTGXXM0WaQk7QuOsfY&_nc_ohc=E_tJC1uO4UMQ7kNvwH4bh53&_nc_gid=AgeT8eNA4_87fftaM-VC9w&edm=ALQROFkBAAAA&ccb=7-5&ig_cache_key=MzY0NTM4NDE4NzA0NjA1MDc5Ng%3D%3D.3-ccb7-5&oh=00_AfOstZvUJs2-CvKSP8_0sJPT1FuIo41JhPuljD7557EaeQ&oe=6859A77F&_nc_sid=fc8dfb'),\n",
       "   'media_type': 1},\n",
       "  {'pk': '3645384187297870744',\n",
       "   'video_url': None,\n",
       "   'thumbnail_url': HttpUrl('https://scontent-ams4-1.cdninstagram.com/v/t51.29350-15/503256523_729773989563627_8922192445514032493_n.heic?stp=dst-jpg_e35_p1080x1080_tt6&efg=eyJ2ZW5jb2RlX3RhZyI6IkNBUk9VU0VMX0lURU0uaW1hZ2VfdXJsZ2VuLjE0NDB4MTgwMC5zZHIuZjI5MzUwLmRlZmF1bHRfaW1hZ2UifQ&_nc_ht=scontent-ams4-1.cdninstagram.com&_nc_cat=103&_nc_oc=Q6cZ2QHlm1YCZg1GNzDPFICscqdcP81VrJIvzf7BZEru9CXo2C_zRgTGXXM0WaQk7QuOsfY&_nc_ohc=YjqSN6zu8gEQ7kNvwEFRSzg&_nc_gid=AgeT8eNA4_87fftaM-VC9w&edm=ALQROFkBAAAA&ccb=7-5&ig_cache_key=MzY0NTM4NDE4NzI5Nzg3MDc0NA%3D%3D.3-ccb7-5&oh=00_AfMH6P7wiZDaXkTJ58xtoYJGSNBRfp-y4Iw5jXp2K1Ic-w&oe=6859A1D2&_nc_sid=fc8dfb'),\n",
       "   'media_type': 1},\n",
       "  {'pk': '3645384187264261581',\n",
       "   'video_url': None,\n",
       "   'thumbnail_url': HttpUrl('https://scontent-ams2-1.cdninstagram.com/v/t51.29350-15/503218128_1372814500455502_6539600760646633121_n.heic?stp=dst-jpg_e35_p1080x1080_tt6&efg=eyJ2ZW5jb2RlX3RhZyI6IkNBUk9VU0VMX0lURU0uaW1hZ2VfdXJsZ2VuLjE0NDB4MTgwMC5zZHIuZjI5MzUwLmRlZmF1bHRfaW1hZ2UifQ&_nc_ht=scontent-ams2-1.cdninstagram.com&_nc_cat=110&_nc_oc=Q6cZ2QHlm1YCZg1GNzDPFICscqdcP81VrJIvzf7BZEru9CXo2C_zRgTGXXM0WaQk7QuOsfY&_nc_ohc=K7uq3cyt74AQ7kNvwHvawrr&_nc_gid=AgeT8eNA4_87fftaM-VC9w&edm=ALQROFkBAAAA&ccb=7-5&ig_cache_key=MzY0NTM4NDE4NzI2NDI2MTU4MQ%3D%3D.3-ccb7-5&oh=00_AfPwFjZMmr5yP7oNubCI0UK-w60nAHh1ho9pWln6j9lOhA&oe=68599660&_nc_sid=fc8dfb'),\n",
       "   'media_type': 1},\n",
       "  {'pk': '3645384187046116466',\n",
       "   'video_url': None,\n",
       "   'thumbnail_url': HttpUrl('https://scontent-ams2-1.cdninstagram.com/v/t51.29350-15/503314025_2190999308030380_6281587904587754836_n.heic?stp=dst-jpg_e35_p1080x1080_tt6&efg=eyJ2ZW5jb2RlX3RhZyI6IkNBUk9VU0VMX0lURU0uaW1hZ2VfdXJsZ2VuLjE0Mzl4MTgwMC5zZHIuZjI5MzUwLmRlZmF1bHRfaW1hZ2UifQ&_nc_ht=scontent-ams2-1.cdninstagram.com&_nc_cat=104&_nc_oc=Q6cZ2QHlm1YCZg1GNzDPFICscqdcP81VrJIvzf7BZEru9CXo2C_zRgTGXXM0WaQk7QuOsfY&_nc_ohc=iV5s51KGjaAQ7kNvwHQnYA3&_nc_gid=AgeT8eNA4_87fftaM-VC9w&edm=ALQROFkBAAAA&ccb=7-5&ig_cache_key=MzY0NTM4NDE4NzA0NjExNjQ2Ng%3D%3D.3-ccb7-5&oh=00_AfO7VisI4TohvN4k_e96OYnZv2p1YaypiJiKGrFPGp5F1w&oe=68597E82&_nc_sid=fc8dfb'),\n",
       "   'media_type': 1},\n",
       "  {'pk': '3645384187046228578',\n",
       "   'video_url': None,\n",
       "   'thumbnail_url': HttpUrl('https://scontent-ams2-1.cdninstagram.com/v/t51.29350-15/503307048_1139931577940322_8081470936585152946_n.heic?stp=dst-jpg_e35_p1080x1080_tt6&efg=eyJ2ZW5jb2RlX3RhZyI6IkNBUk9VU0VMX0lURU0uaW1hZ2VfdXJsZ2VuLjE0NDB4MTgwMC5zZHIuZjI5MzUwLmRlZmF1bHRfaW1hZ2UifQ&_nc_ht=scontent-ams2-1.cdninstagram.com&_nc_cat=106&_nc_oc=Q6cZ2QHlm1YCZg1GNzDPFICscqdcP81VrJIvzf7BZEru9CXo2C_zRgTGXXM0WaQk7QuOsfY&_nc_ohc=G4ykJPKWmToQ7kNvwEwYBUx&_nc_gid=AgeT8eNA4_87fftaM-VC9w&edm=ALQROFkBAAAA&ccb=7-5&ig_cache_key=MzY0NTM4NDE4NzA0NjIyODU3OA%3D%3D.3-ccb7-5&oh=00_AfMXDh8J1-wUXJAc7BW8fOfQ1hL3ff1TlN4sF4mfFDuhlw&oe=6859AD06&_nc_sid=fc8dfb'),\n",
       "   'media_type': 1},\n",
       "  {'pk': '3645383973598043880',\n",
       "   'video_url': HttpUrl('https://scontent-ams4-1.cdninstagram.com/o1/v/t16/f2/m84/AQO8lO7l7blevsk8_y7lsLx0mgHieOia4Ji_8XqAdSAcfQbiKA9xfJDmQMILbXUtczD_doZXhmfrSxbsiixJWv_XQs-zmfG7vt3GTiY.mp4?_nc_cat=102&_nc_sid=5e9851&_nc_ht=scontent-ams4-1.cdninstagram.com&_nc_ohc=Fm5SXOTqEZYQ7kNvwGHXfCh&efg=eyJ2ZW5jb2RlX3RhZyI6Inhwdl9wcm9ncmVzc2l2ZS5JTlNUQUdSQU0uQ0FST1VTRUxfSVRFTS5DMy43MjAuZGFzaF9iYXNlbGluZV8xX3YxIiwieHB2X2Fzc2V0X2lkIjoxNjQ4ODA1NzIyNDg4Mjk1LCJ2aV91c2VjYXNlX2lkIjoxMDE0NiwiZHVyYXRpb25fcyI6MTMsInVybGdlbl9zb3VyY2UiOiJ3d3cifQ%3D%3D&ccb=17-1&vs=5115107f6bd9141&_nc_vs=HBksFQIYTGlnX2JhY2tmaWxsX3RpbWVsaW5lX3ZvZC9BQTQyNjRDRDQ5RjY2Q0NGRjZDOTY1NjFBNjQxNUNBRV92aWRlb19kYXNoaW5pdC5tcDQVAALIARIAFQIYOnBhc3N0aHJvdWdoX2V2ZXJzdG9yZS9HSWtfNkIzd19wSG9VNWNDQUxYVWtOMnJoMEVnYmtZTEFBQUYVAgLIARIAKAAYABsCiAd1c2Vfb2lsATEScHJvZ3Jlc3NpdmVfcmVjaXBlATEVAAAmzvej9o_l7QUVAigCQzMsF0AriDEm6XjVGBJkYXNoX2Jhc2VsaW5lXzFfdjERAHXuB2XEngEA&_nc_zt=28&oh=00_AfM0JsMuu1_xPn-iAKgofwZCxKd7H7GAAVEDVrfKW2ThsA&oe=685588F6'),\n",
       "   'thumbnail_url': HttpUrl('https://scontent-ams2-1.cdninstagram.com/v/t51.2885-15/503196201_18375291823133144_5658132374039228753_n.jpg?stp=dst-jpg_e15_p360x360_tt6&efg=eyJ2ZW5jb2RlX3RhZyI6IkNBUk9VU0VMX0lURU0uaW1hZ2VfdXJsZ2VuLjcyMHg5MDAuc2RyLmY3NTc2MS5kZWZhdWx0X2NvdmVyX2ZyYW1lIn0&_nc_ht=scontent-ams2-1.cdninstagram.com&_nc_cat=108&_nc_oc=Q6cZ2QHlm1YCZg1GNzDPFICscqdcP81VrJIvzf7BZEru9CXo2C_zRgTGXXM0WaQk7QuOsfY&_nc_ohc=jGp8AfNkugkQ7kNvwGtTCM9&_nc_gid=AgeT8eNA4_87fftaM-VC9w&edm=ALQROFkBAAAA&ccb=7-5&ig_cache_key=MzY0NTM4Mzk3MzU5ODA0Mzg4MA%3D%3D.3-ccb7-5&oh=00_AfPRV6zYA9Xep4I7wyk1QK-ITrVSdn_whSDrMT3L7407FQ&oe=6859A9FC&_nc_sid=fc8dfb'),\n",
       "   'media_type': 2},\n",
       "  {'pk': '3645384046906151064',\n",
       "   'video_url': HttpUrl('https://scontent-ams4-1.cdninstagram.com/o1/v/t16/f2/m84/AQM2MZ4waf4CCodG7ea9OQqQ9mI-N_msyWd-6z43ZGFR1yUTLrHWePaWsQl4kT544wUIgJUVcM1VsKhgQnSvyXvFfMebl4rpDVWypCM.mp4?_nc_cat=101&_nc_sid=5e9851&_nc_ht=scontent-ams4-1.cdninstagram.com&_nc_ohc=NPQhTtNNBGsQ7kNvwFFGv_u&efg=eyJ2ZW5jb2RlX3RhZyI6Inhwdl9wcm9ncmVzc2l2ZS5JTlNUQUdSQU0uQ0FST1VTRUxfSVRFTS5DMy43MjAuZGFzaF9iYXNlbGluZV8xX3YxIiwieHB2X2Fzc2V0X2lkIjoyODgwNDk2Mjg1NDcxMTQzLCJ2aV91c2VjYXNlX2lkIjoxMDE0NiwiZHVyYXRpb25fcyI6MjEsInVybGdlbl9zb3VyY2UiOiJ3d3cifQ%3D%3D&ccb=17-1&vs=5bcd7786e1222de&_nc_vs=HBksFQIYTGlnX2JhY2tmaWxsX3RpbWVsaW5lX3ZvZC8zNzREMURGRkExRTczRkZFOTc4MTg3QkIzMzI2Q0U4RV92aWRlb19kYXNoaW5pdC5tcDQVAALIARIAFQIYOnBhc3N0aHJvdWdoX2V2ZXJzdG9yZS9HQjgyX3gxd0tER29hMTRGQUVRTUk3MlZoc1lQYmtZTEFBQUYVAgLIARIAKAAYABsCiAd1c2Vfb2lsATEScHJvZ3Jlc3NpdmVfcmVjaXBlATEVAAAmzsb63fnynQoVAigCQzMsF0A1qn752yLRGBJkYXNoX2Jhc2VsaW5lXzFfdjERAHXuB2XEngEA&_nc_zt=28&oh=00_AfPKibGHHUGa7DgzcD0AMS5AwexTfhg0umE98W2p89O3Yg&oe=6855834B'),\n",
       "   'thumbnail_url': HttpUrl('https://scontent-ams2-1.cdninstagram.com/v/t51.2885-15/503272536_18375291841133144_1796996026901233491_n.jpg?stp=dst-jpg_e15_p360x360_tt6&efg=eyJ2ZW5jb2RlX3RhZyI6IkNBUk9VU0VMX0lURU0uaW1hZ2VfdXJsZ2VuLjcyMHg5MDAuc2RyLmY3NTc2MS5kZWZhdWx0X2NvdmVyX2ZyYW1lIn0&_nc_ht=scontent-ams2-1.cdninstagram.com&_nc_cat=108&_nc_oc=Q6cZ2QHlm1YCZg1GNzDPFICscqdcP81VrJIvzf7BZEru9CXo2C_zRgTGXXM0WaQk7QuOsfY&_nc_ohc=2MPGGXW_38AQ7kNvwFuh-Lb&_nc_gid=AgeT8eNA4_87fftaM-VC9w&edm=ALQROFkBAAAA&ccb=7-5&ig_cache_key=MzY0NTM4NDA0NjkwNjE1MTA2NA%3D%3D.3-ccb7-5&oh=00_AfO0pJ8m7LUUIrwUYf9Y34yuv4xT5TiJAwqrVPFWtdL2pA&oe=685987D8&_nc_sid=fc8dfb'),\n",
       "   'media_type': 2}],\n",
       " 'clips_metadata': {}}"
      ]
     },
     "execution_count": 7,
     "metadata": {},
     "output_type": "execute_result"
    }
   ],
   "execution_count": 7
  },
  {
   "metadata": {
    "ExecuteTime": {
     "end_time": "2025-06-19T07:50:02.353815Z",
     "start_time": "2025-06-19T07:50:02.350594Z"
    }
   },
   "cell_type": "code",
   "source": "media_info.extract_media_urls()",
   "id": "1f651ab322ae4164",
   "outputs": [
    {
     "data": {
      "text/plain": [
       "['https://scontent-ams2-1.cdninstagram.com/o1/v/t2/f2/m367/AQMczoaR4Q_q07EMcGKzV1-tu-l5nFfc2BPK4Yt-fLwmU2wFBy-aoRDejjC26e6Y6fI6g3ru9E6SQMy_mZx__HPwLoUEwj1Vif2nIwU.mp4?_nc_cat=106&_nc_sid=5e9851&_nc_ht=scontent-ams2-1.cdninstagram.com&_nc_ohc=3Mm60WeAszwQ7kNvwGmWyC1&efg=eyJ2ZW5jb2RlX3RhZyI6Inhwdl9wcm9ncmVzc2l2ZS5JTlNUQUdSQU0uQ0FST1VTRUxfSVRFTS5DMy4xMDgwLmRhc2hfYmFzZWxpbmVfMTA4MHBfdjEiLCJ4cHZfYXNzZXRfaWQiOjEwMzE2OTA2OTUzMDEwOTgsInZpX3VzZWNhc2VfaWQiOjEwMTQ2LCJkdXJhdGlvbl9zIjoxNiwidXJsZ2VuX3NvdXJjZSI6Ind3dyJ9&ccb=17-1&vs=d9d87940b406943d&_nc_vs=HBksFQIYQGlnX2VwaGVtZXJhbC9BMDQzRkU2QzhFOTkzRkRFNUY2NDNBRDRGNzk3OTM4MF92aWRlb19kYXNoaW5pdC5tcDQVAALIARIAFQIYOnBhc3N0aHJvdWdoX2V2ZXJzdG9yZS9HUFRJOVIzSHRNVU5WQmdqQUJ2QlpBSERxdzBPYmtZTEFBQUYVAgLIARIAKAAYABsCiAd1c2Vfb2lsATEScHJvZ3Jlc3NpdmVfcmVjaXBlATEVAAAm1N_K1qaU1QMVAigCQzMsF0Aw1T987ZFoGBZkYXNoX2Jhc2VsaW5lXzEwODBwX3YxEQB17gdlxJ4BAA&_nc_zt=28&oh=00_AfOHv-l72Cdt5ta9L0e40egYOVrZIYw_Kytey6ea-MQjsw&oe=685979C7',\n",
       " 'https://scontent-ams4-1.cdninstagram.com/o1/v/t16/f2/m84/AQOxB0aC5ramyJwQ56ilcW7gkETSwaTMfzLJN9HMYCwCZKq6Wq8S10x1fTJbEGplhwgnMvdL2AbxnPMKxRvuyU3W3iWKjGK7xPsNI2o.mp4?_nc_cat=109&_nc_sid=5e9851&_nc_ht=scontent-ams4-1.cdninstagram.com&_nc_ohc=6CdRP2JTQ4MQ7kNvwExHlkw&efg=eyJ2ZW5jb2RlX3RhZyI6Inhwdl9wcm9ncmVzc2l2ZS5JTlNUQUdSQU0uQ0FST1VTRUxfSVRFTS5DMy41NzYuZGFzaF9iYXNlbGluZV8xX3YxIiwieHB2X2Fzc2V0X2lkIjoxMDA2OTA0MzYxNjUxNjU3LCJ2aV91c2VjYXNlX2lkIjoxMDE0NiwiZHVyYXRpb25fcyI6OCwidXJsZ2VuX3NvdXJjZSI6Ind3dyJ9&ccb=17-1&vs=8fbf37c1a6a6eb1c&_nc_vs=HBksFQIYTGlnX2JhY2tmaWxsX3RpbWVsaW5lX3ZvZC9CMzRDM0U4OTRDOEJGMTQ3NTBGREQ1NDhBMjg0MDc5QV92aWRlb19kYXNoaW5pdC5tcDQVAALIARIAFQIYOnBhc3N0aHJvdWdoX2V2ZXJzdG9yZS9HSmNjX3gzYkdsM3MwRDBHQUp2bm1lTjFSNHRZYmtZTEFBQUYVAgLIARIAKAAYABsCiAd1c2Vfb2lsATEScHJvZ3Jlc3NpdmVfcmVjaXBlATEVAAAmkrfkjMbxyQMVAigCQzMsF0Agu2RaHKwIGBJkYXNoX2Jhc2VsaW5lXzFfdjERAHXuB2XEngEA&_nc_zt=28&oh=00_AfMUkDhHhbjN4qDgI_2F4ysKzW6rSUn9B3Jn7iSbP8fXfw&oe=6855B5DB',\n",
       " 'https://scontent-ams2-1.cdninstagram.com/o1/v/t16/f2/m84/AQM2L_f4zH18kVv9V9x06j4PzIdx17ZwUlFI_fTuZtr0fKDeyoPKvJAArjpxmsiXcbHs2Pv6QXUbsUe1Y671g8Um0iNg3gjGlUbXHSk.mp4?_nc_cat=108&_nc_sid=5e9851&_nc_ht=scontent-ams2-1.cdninstagram.com&_nc_ohc=TuhsDGNokyYQ7kNvwFDY29r&efg=eyJ2ZW5jb2RlX3RhZyI6Inhwdl9wcm9ncmVzc2l2ZS5JTlNUQUdSQU0uQ0FST1VTRUxfSVRFTS5DMy41NzYuZGFzaF9iYXNlbGluZV8xX3YxIiwieHB2X2Fzc2V0X2lkIjoxNDQyNDE2NjQwMDk2NjgwLCJ2aV91c2VjYXNlX2lkIjoxMDE0NiwiZHVyYXRpb25fcyI6OCwidXJsZ2VuX3NvdXJjZSI6Ind3dyJ9&ccb=17-1&vs=7cb3776a04afd631&_nc_vs=HBksFQIYTGlnX2JhY2tmaWxsX3RpbWVsaW5lX3ZvZC8xMjRDM0VFRTI4MTM1RTBGQzE0QTlBQjI1NzlCM0Y4MV92aWRlb19kYXNoaW5pdC5tcDQVAALIARIAFQIYOnBhc3N0aHJvdWdoX2V2ZXJzdG9yZS9HREV1LXgwdExINzFGUVlDQUt2ZXY4ZWN2cFlzYmtZTEFBQUYVAgLIARIAKAAYABsCiAd1c2Vfb2lsATEScHJvZ3Jlc3NpdmVfcmVjaXBlATEVAAAm0Oabt9n3jwUVAigCQzMsF0AhIcrAgxJvGBJkYXNoX2Jhc2VsaW5lXzFfdjERAHXuB2XEngEA&_nc_zt=28&oh=00_AfMgF66JzJNxZWCgUc3cmsBuW62N5QiHnA-MEUvAuvk4ug&oe=6855872C',\n",
       " 'https://scontent-ams4-1.cdninstagram.com/v/t51.29350-15/503325122_1195561618558845_4285542924715296480_n.heic?stp=dst-jpg_e35_p1080x1080_tt6&efg=eyJ2ZW5jb2RlX3RhZyI6IkNBUk9VU0VMX0lURU0uaW1hZ2VfdXJsZ2VuLjE0NDB4MTgwMC5zZHIuZjI5MzUwLmRlZmF1bHRfaW1hZ2UifQ&_nc_ht=scontent-ams4-1.cdninstagram.com&_nc_cat=109&_nc_oc=Q6cZ2QHlm1YCZg1GNzDPFICscqdcP81VrJIvzf7BZEru9CXo2C_zRgTGXXM0WaQk7QuOsfY&_nc_ohc=GJH1aykWhC4Q7kNvwEHYfNl&_nc_gid=AgeT8eNA4_87fftaM-VC9w&edm=ALQROFkBAAAA&ccb=7-5&ig_cache_key=MzY0NTM4NDE4NzA3OTc0NDA4MQ%3D%3D.3-ccb7-5&oh=00_AfNPu7jjoCOUvp4L0aKbOa8TfGvMR8BcOhx-NAoGKNCtDw&oe=685996A0&_nc_sid=fc8dfb',\n",
       " 'https://scontent-ams4-1.cdninstagram.com/v/t51.29350-15/503055620_1940237529845353_7046392109260968268_n.heic?stp=dst-jpg_e35_p1080x1080_tt6&efg=eyJ2ZW5jb2RlX3RhZyI6IkNBUk9VU0VMX0lURU0uaW1hZ2VfdXJsZ2VuLjE0NDB4MTgwMC5zZHIuZjI5MzUwLmRlZmF1bHRfaW1hZ2UifQ&_nc_ht=scontent-ams4-1.cdninstagram.com&_nc_cat=101&_nc_oc=Q6cZ2QHlm1YCZg1GNzDPFICscqdcP81VrJIvzf7BZEru9CXo2C_zRgTGXXM0WaQk7QuOsfY&_nc_ohc=E_tJC1uO4UMQ7kNvwH4bh53&_nc_gid=AgeT8eNA4_87fftaM-VC9w&edm=ALQROFkBAAAA&ccb=7-5&ig_cache_key=MzY0NTM4NDE4NzA0NjA1MDc5Ng%3D%3D.3-ccb7-5&oh=00_AfOstZvUJs2-CvKSP8_0sJPT1FuIo41JhPuljD7557EaeQ&oe=6859A77F&_nc_sid=fc8dfb',\n",
       " 'https://scontent-ams4-1.cdninstagram.com/v/t51.29350-15/503256523_729773989563627_8922192445514032493_n.heic?stp=dst-jpg_e35_p1080x1080_tt6&efg=eyJ2ZW5jb2RlX3RhZyI6IkNBUk9VU0VMX0lURU0uaW1hZ2VfdXJsZ2VuLjE0NDB4MTgwMC5zZHIuZjI5MzUwLmRlZmF1bHRfaW1hZ2UifQ&_nc_ht=scontent-ams4-1.cdninstagram.com&_nc_cat=103&_nc_oc=Q6cZ2QHlm1YCZg1GNzDPFICscqdcP81VrJIvzf7BZEru9CXo2C_zRgTGXXM0WaQk7QuOsfY&_nc_ohc=YjqSN6zu8gEQ7kNvwEFRSzg&_nc_gid=AgeT8eNA4_87fftaM-VC9w&edm=ALQROFkBAAAA&ccb=7-5&ig_cache_key=MzY0NTM4NDE4NzI5Nzg3MDc0NA%3D%3D.3-ccb7-5&oh=00_AfMH6P7wiZDaXkTJ58xtoYJGSNBRfp-y4Iw5jXp2K1Ic-w&oe=6859A1D2&_nc_sid=fc8dfb',\n",
       " 'https://scontent-ams2-1.cdninstagram.com/v/t51.29350-15/503218128_1372814500455502_6539600760646633121_n.heic?stp=dst-jpg_e35_p1080x1080_tt6&efg=eyJ2ZW5jb2RlX3RhZyI6IkNBUk9VU0VMX0lURU0uaW1hZ2VfdXJsZ2VuLjE0NDB4MTgwMC5zZHIuZjI5MzUwLmRlZmF1bHRfaW1hZ2UifQ&_nc_ht=scontent-ams2-1.cdninstagram.com&_nc_cat=110&_nc_oc=Q6cZ2QHlm1YCZg1GNzDPFICscqdcP81VrJIvzf7BZEru9CXo2C_zRgTGXXM0WaQk7QuOsfY&_nc_ohc=K7uq3cyt74AQ7kNvwHvawrr&_nc_gid=AgeT8eNA4_87fftaM-VC9w&edm=ALQROFkBAAAA&ccb=7-5&ig_cache_key=MzY0NTM4NDE4NzI2NDI2MTU4MQ%3D%3D.3-ccb7-5&oh=00_AfPwFjZMmr5yP7oNubCI0UK-w60nAHh1ho9pWln6j9lOhA&oe=68599660&_nc_sid=fc8dfb',\n",
       " 'https://scontent-ams2-1.cdninstagram.com/v/t51.29350-15/503314025_2190999308030380_6281587904587754836_n.heic?stp=dst-jpg_e35_p1080x1080_tt6&efg=eyJ2ZW5jb2RlX3RhZyI6IkNBUk9VU0VMX0lURU0uaW1hZ2VfdXJsZ2VuLjE0Mzl4MTgwMC5zZHIuZjI5MzUwLmRlZmF1bHRfaW1hZ2UifQ&_nc_ht=scontent-ams2-1.cdninstagram.com&_nc_cat=104&_nc_oc=Q6cZ2QHlm1YCZg1GNzDPFICscqdcP81VrJIvzf7BZEru9CXo2C_zRgTGXXM0WaQk7QuOsfY&_nc_ohc=iV5s51KGjaAQ7kNvwHQnYA3&_nc_gid=AgeT8eNA4_87fftaM-VC9w&edm=ALQROFkBAAAA&ccb=7-5&ig_cache_key=MzY0NTM4NDE4NzA0NjExNjQ2Ng%3D%3D.3-ccb7-5&oh=00_AfO7VisI4TohvN4k_e96OYnZv2p1YaypiJiKGrFPGp5F1w&oe=68597E82&_nc_sid=fc8dfb',\n",
       " 'https://scontent-ams2-1.cdninstagram.com/v/t51.29350-15/503307048_1139931577940322_8081470936585152946_n.heic?stp=dst-jpg_e35_p1080x1080_tt6&efg=eyJ2ZW5jb2RlX3RhZyI6IkNBUk9VU0VMX0lURU0uaW1hZ2VfdXJsZ2VuLjE0NDB4MTgwMC5zZHIuZjI5MzUwLmRlZmF1bHRfaW1hZ2UifQ&_nc_ht=scontent-ams2-1.cdninstagram.com&_nc_cat=106&_nc_oc=Q6cZ2QHlm1YCZg1GNzDPFICscqdcP81VrJIvzf7BZEru9CXo2C_zRgTGXXM0WaQk7QuOsfY&_nc_ohc=G4ykJPKWmToQ7kNvwEwYBUx&_nc_gid=AgeT8eNA4_87fftaM-VC9w&edm=ALQROFkBAAAA&ccb=7-5&ig_cache_key=MzY0NTM4NDE4NzA0NjIyODU3OA%3D%3D.3-ccb7-5&oh=00_AfMXDh8J1-wUXJAc7BW8fOfQ1hL3ff1TlN4sF4mfFDuhlw&oe=6859AD06&_nc_sid=fc8dfb',\n",
       " 'https://scontent-ams4-1.cdninstagram.com/o1/v/t16/f2/m84/AQO8lO7l7blevsk8_y7lsLx0mgHieOia4Ji_8XqAdSAcfQbiKA9xfJDmQMILbXUtczD_doZXhmfrSxbsiixJWv_XQs-zmfG7vt3GTiY.mp4?_nc_cat=102&_nc_sid=5e9851&_nc_ht=scontent-ams4-1.cdninstagram.com&_nc_ohc=Fm5SXOTqEZYQ7kNvwGHXfCh&efg=eyJ2ZW5jb2RlX3RhZyI6Inhwdl9wcm9ncmVzc2l2ZS5JTlNUQUdSQU0uQ0FST1VTRUxfSVRFTS5DMy43MjAuZGFzaF9iYXNlbGluZV8xX3YxIiwieHB2X2Fzc2V0X2lkIjoxNjQ4ODA1NzIyNDg4Mjk1LCJ2aV91c2VjYXNlX2lkIjoxMDE0NiwiZHVyYXRpb25fcyI6MTMsInVybGdlbl9zb3VyY2UiOiJ3d3cifQ%3D%3D&ccb=17-1&vs=5115107f6bd9141&_nc_vs=HBksFQIYTGlnX2JhY2tmaWxsX3RpbWVsaW5lX3ZvZC9BQTQyNjRDRDQ5RjY2Q0NGRjZDOTY1NjFBNjQxNUNBRV92aWRlb19kYXNoaW5pdC5tcDQVAALIARIAFQIYOnBhc3N0aHJvdWdoX2V2ZXJzdG9yZS9HSWtfNkIzd19wSG9VNWNDQUxYVWtOMnJoMEVnYmtZTEFBQUYVAgLIARIAKAAYABsCiAd1c2Vfb2lsATEScHJvZ3Jlc3NpdmVfcmVjaXBlATEVAAAmzvej9o_l7QUVAigCQzMsF0AriDEm6XjVGBJkYXNoX2Jhc2VsaW5lXzFfdjERAHXuB2XEngEA&_nc_zt=28&oh=00_AfM0JsMuu1_xPn-iAKgofwZCxKd7H7GAAVEDVrfKW2ThsA&oe=685588F6',\n",
       " 'https://scontent-ams4-1.cdninstagram.com/o1/v/t16/f2/m84/AQM2MZ4waf4CCodG7ea9OQqQ9mI-N_msyWd-6z43ZGFR1yUTLrHWePaWsQl4kT544wUIgJUVcM1VsKhgQnSvyXvFfMebl4rpDVWypCM.mp4?_nc_cat=101&_nc_sid=5e9851&_nc_ht=scontent-ams4-1.cdninstagram.com&_nc_ohc=NPQhTtNNBGsQ7kNvwFFGv_u&efg=eyJ2ZW5jb2RlX3RhZyI6Inhwdl9wcm9ncmVzc2l2ZS5JTlNUQUdSQU0uQ0FST1VTRUxfSVRFTS5DMy43MjAuZGFzaF9iYXNlbGluZV8xX3YxIiwieHB2X2Fzc2V0X2lkIjoyODgwNDk2Mjg1NDcxMTQzLCJ2aV91c2VjYXNlX2lkIjoxMDE0NiwiZHVyYXRpb25fcyI6MjEsInVybGdlbl9zb3VyY2UiOiJ3d3cifQ%3D%3D&ccb=17-1&vs=5bcd7786e1222de&_nc_vs=HBksFQIYTGlnX2JhY2tmaWxsX3RpbWVsaW5lX3ZvZC8zNzREMURGRkExRTczRkZFOTc4MTg3QkIzMzI2Q0U4RV92aWRlb19kYXNoaW5pdC5tcDQVAALIARIAFQIYOnBhc3N0aHJvdWdoX2V2ZXJzdG9yZS9HQjgyX3gxd0tER29hMTRGQUVRTUk3MlZoc1lQYmtZTEFBQUYVAgLIARIAKAAYABsCiAd1c2Vfb2lsATEScHJvZ3Jlc3NpdmVfcmVjaXBlATEVAAAmzsb63fnynQoVAigCQzMsF0A1qn752yLRGBJkYXNoX2Jhc2VsaW5lXzFfdjERAHXuB2XEngEA&_nc_zt=28&oh=00_AfPKibGHHUGa7DgzcD0AMS5AwexTfhg0umE98W2p89O3Yg&oe=6855834B']"
      ]
     },
     "execution_count": 8,
     "metadata": {},
     "output_type": "execute_result"
    }
   ],
   "execution_count": 8
  },
  {
   "metadata": {
    "ExecuteTime": {
     "end_time": "2025-06-19T07:50:09.091319Z",
     "start_time": "2025-06-19T07:50:02.393411Z"
    }
   },
   "cell_type": "code",
   "source": [
    "result = 0\n",
    "for url in media_info.extract_media_urls():\n",
    "    response = httpx.get(url)\n",
    "    assert response.is_success\n",
    "    result += len(response.content)"
   ],
   "id": "ef81ea27512b5db7",
   "outputs": [],
   "execution_count": 10
  },
  {
   "metadata": {
    "ExecuteTime": {
     "end_time": "2025-06-19T07:50:26.463678Z",
     "start_time": "2025-06-19T07:50:26.448163Z"
    }
   },
   "cell_type": "code",
   "source": "result / (1024 ** 2)",
   "id": "d928f5ec33337d76",
   "outputs": [
    {
     "data": {
      "text/plain": [
       "14.41268539428711"
      ]
     },
     "execution_count": 13,
     "metadata": {},
     "output_type": "execute_result"
    }
   ],
   "execution_count": 13
  },
  {
   "metadata": {},
   "cell_type": "code",
   "outputs": [],
   "execution_count": null,
   "source": "",
   "id": "488b88d6eafa8442"
  }
 ],
 "metadata": {
  "kernelspec": {
   "display_name": "Python 3",
   "language": "python",
   "name": "python3"
  },
  "language_info": {
   "codemirror_mode": {
    "name": "ipython",
    "version": 2
   },
   "file_extension": ".py",
   "mimetype": "text/x-python",
   "name": "python",
   "nbconvert_exporter": "python",
   "pygments_lexer": "ipython2",
   "version": "2.7.6"
  }
 },
 "nbformat": 4,
 "nbformat_minor": 5
}
