{
 "cells": [
  {
   "cell_type": "code",
   "id": "initial_id",
   "metadata": {
    "collapsed": true,
    "ExecuteTime": {
     "end_time": "2025-06-19T10:50:36.716828Z",
     "start_time": "2025-06-19T10:50:36.707114Z"
    }
   },
   "source": [
    "import uuid\n",
    "import os\n",
    "import asyncio\n",
    "from IPython.display import Image\n",
    "from IPython.core.display import HTML\n",
    "import logging\n",
    "\n",
    "import dotenv\n",
    "import instagrapi\n",
    "import httpx\n",
    "import aiofiles\n",
    "\n",
    "from config import InstaSettings, BotSettings\n",
    "from services.insta_service import InstaService\n",
    "from dto.instagram import *\n",
    "from utils.custom_telegram_client import MegaTelegramClient\n",
    "\n",
    "dotenv.load_dotenv()"
   ],
   "outputs": [
    {
     "data": {
      "text/plain": [
       "True"
      ]
     },
     "execution_count": 18,
     "metadata": {},
     "output_type": "execute_result"
    }
   ],
   "execution_count": 18
  },
  {
   "metadata": {
    "ExecuteTime": {
     "end_time": "2025-06-19T10:26:06.567587Z",
     "start_time": "2025-06-19T10:26:06.560781Z"
    }
   },
   "cell_type": "code",
   "source": [
    "insta_settings = InstaSettings()\n",
    "client = instagrapi.Client()\n",
    "insta_service = InstaService(logger=logging.getLogger('jupyter'), config=insta_settings, insta_client=client)"
   ],
   "id": "4cdf2d9143eb5422",
   "outputs": [],
   "execution_count": 2
  },
  {
   "metadata": {
    "ExecuteTime": {
     "end_time": "2025-06-19T10:26:18.855299Z",
     "start_time": "2025-06-19T10:26:06.937125Z"
    }
   },
   "cell_type": "code",
   "source": "client.login(username=insta_settings.USERNAME, password=insta_settings.PASSWORD)",
   "id": "df816bce16d125fd",
   "outputs": [
    {
     "data": {
      "text/plain": [
       "True"
      ]
     },
     "execution_count": 3,
     "metadata": {},
     "output_type": "execute_result"
    }
   ],
   "execution_count": 3
  },
  {
   "metadata": {
    "ExecuteTime": {
     "end_time": "2025-06-19T10:26:18.944994Z",
     "start_time": "2025-06-19T10:26:18.942859Z"
    }
   },
   "cell_type": "code",
   "source": [
    "urls = [\n",
    "    'https://www.instagram.com/p/DKz6hiItQ_R/',  # picture\n",
    "    'https://www.instagram.com/reel/DIlaS8VuzT2/',  # reel\n",
    "    'https://www.instagram.com/p/DKcL_DONecG/',  # picture album\n",
    "    'https://www.instagram.com/p/DKXAZ2CtnI3/',  # video album\n",
    "]"
   ],
   "id": "e20e67498cfbd7dc",
   "outputs": [],
   "execution_count": 4
  },
  {
   "metadata": {
    "ExecuteTime": {
     "end_time": "2025-06-19T10:26:55.271222Z",
     "start_time": "2025-06-19T10:26:18.972511Z"
    }
   },
   "cell_type": "code",
   "source": [
    "media_info = [\n",
    "    await insta_service.get_media_info_by_link(url)\n",
    "    for url in urls\n",
    "]"
   ],
   "id": "116a2ae480b3989b",
   "outputs": [],
   "execution_count": 5
  },
  {
   "metadata": {
    "ExecuteTime": {
     "end_time": "2025-06-19T10:29:12.632157Z",
     "start_time": "2025-06-19T10:29:12.410590Z"
    }
   },
   "cell_type": "code",
   "source": [
    "MY_ID = 336619540\n",
    "bot_settings = BotSettings()\n",
    "bot = MegaTelegramClient(\n",
    "    session=bot_settings.APP_NAME,\n",
    "    api_id=bot_settings.API_ID,\n",
    "    api_hash=bot_settings.API_HASH,\n",
    "    system_version=f\"4.16.30-vx{bot_settings.APP_NAME}\",\n",
    "    loop=asyncio.get_running_loop(),\n",
    "    di_container=None,\n",
    "    logger=logging.getLogger('jupyter'),\n",
    ")"
   ],
   "id": "a655400f09e1a0ba",
   "outputs": [],
   "execution_count": 7
  },
  {
   "metadata": {
    "ExecuteTime": {
     "end_time": "2025-06-19T10:53:42.594828Z",
     "start_time": "2025-06-19T10:53:41.390257Z"
    }
   },
   "cell_type": "code",
   "source": [
    "# image\n",
    "httpx_client = httpx.AsyncClient()\n",
    "\n",
    "async def save(tempdir: str, url: str, ext: str):\n",
    "    path = os.path.join(tempdir, f\"{uuid.uuid4().hex}.{ext}\")\n",
    "    response = await httpx_client.get(url)\n",
    "    async with aiofiles.open(path, 'wb') as f:\n",
    "        async for chunk in response.aiter_bytes():\n",
    "            await f.write(chunk)\n",
    "        return path\n",
    "\n",
    "\n",
    "async with bot, aiofiles.tempfile.TemporaryDirectory() as tmp_dir:\n",
    "    file_name = await save(tmp_dir, str(media_info[0].thumbnail_url), 'jpg')\n",
    "    await bot.send_message(\n",
    "        entity=MY_ID,\n",
    "        file=file_name,\n",
    "        message=urls[0],\n",
    "        silent=True,\n",
    "    )\n",
    "    Image(filename=file_name)"
   ],
   "id": "3d22961fc7af7bb4",
   "outputs": [],
   "execution_count": 22
  },
  {
   "metadata": {},
   "cell_type": "code",
   "outputs": [],
   "execution_count": 11,
   "source": [
    "# reel\n",
    "async with bot:\n",
    "    await bot.send_message(\n",
    "        entity=MY_ID,\n",
    "        file=str(media_info[1].video_url),\n",
    "        message=urls[1],\n",
    "        silent=True,\n",
    "    )"
   ],
   "id": "87bb55ad760afb88"
  }
 ],
 "metadata": {
  "kernelspec": {
   "display_name": "Python 3",
   "language": "python",
   "name": "python3"
  },
  "language_info": {
   "codemirror_mode": {
    "name": "ipython",
    "version": 2
   },
   "file_extension": ".py",
   "mimetype": "text/x-python",
   "name": "python",
   "nbconvert_exporter": "python",
   "pygments_lexer": "ipython2",
   "version": "2.7.6"
  }
 },
 "nbformat": 4,
 "nbformat_minor": 5
}
